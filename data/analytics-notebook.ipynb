{
 "metadata": {
  "name": ""
 },
 "nbformat": 3,
 "nbformat_minor": 0,
 "worksheets": [
  {
   "cells": [
    {
     "cell_type": "code",
     "collapsed": false,
     "input": [
      "import csv\n",
      "import numpy as np\n",
      "import scipy as sp\n",
      "import matplotlib as mpl\n",
      "import matplotlib.pyplot as plt\n",
      "import pandas as pd\n",
      "import math\n",
      "import operator\n",
      "#import plotly.plotly as py\n",
      "#import plotly.graph_objs as pgo\n",
      "!ls"
     ],
     "language": "python",
     "metadata": {},
     "outputs": [
      {
       "output_type": "stream",
       "stream": "stdout",
       "text": [
        "2015-07-14.csv\tanalytics-notebook.ipynb  collaboration_scoring_scenarios.csv\r\n"
       ]
      }
     ],
     "prompt_number": 1
    },
    {
     "cell_type": "code",
     "collapsed": false,
     "input": [
      "with open(\"2015-07-14.csv\") as baseFile:\n",
      "    csvr = csv.reader(baseFile)\n",
      "    records=[]\n",
      "    for line in csvr:\n",
      "        records.append(line)\n",
      "print(records[0])\n",
      "records=records[1:]"
     ],
     "language": "python",
     "metadata": {},
     "outputs": [
      {
       "output_type": "stream",
       "stream": "stdout",
       "text": [
        "['time', 'hangout_id', 'participant_id', 'volume', 'recorder_id']\n"
       ]
      }
     ],
     "prompt_number": 2
    },
    {
     "cell_type": "code",
     "collapsed": false,
     "input": [
      "print(records[0])\n",
      "print(records[50])\n",
      "#filter(lambda x:(operator.gt(int(x[3]),0)),records[1:])"
     ],
     "language": "python",
     "metadata": {},
     "outputs": [
      {
       "output_type": "stream",
       "stream": "stdout",
       "text": [
        "['1436906515049', 'hangout89FB9D61_ephemeral.id.google.com^902c79f4a20768', 'hangout89FB9D61_ephemeral.id.google.com^902c79f4a20768', '2', 'hangout89FB9D61_ephemeral.id.google.com^902c79f4a20768 ']\n",
        "['1436906520076', 'hangout89FB9D61_ephemeral.id.google.com^902c79f4a20768', 'hangout89FB9D61_ephemeral.id.google.com^902c79f4a20768', '2', 'hangout89FB9D61_ephemeral.id.google.com^902c79f4a20768 ']\n"
       ]
      }
     ],
     "prompt_number": 3
    },
    {
     "cell_type": "code",
     "collapsed": false,
     "input": [
      "#Testing the data set as a whole. This gets some basic sanity checks done.\n",
      "get = lambda n: ([k[n] for k in records])\n",
      "#Verification that all times are ints, and displaying the offending lines otherwise.\n",
      "#for k in records:\n",
      "#    try:\n",
      "#        int(k[0])\n",
      "#    except Exception,e:\n",
      "#        print(k)\n",
      "times = list(map(int,get(0)))\n",
      "hangout_ids = set(get(1))\n",
      "participant_ids = set([k[2] for k in records])#Not an int.\n",
      "vols = list(map(int,get(3)))\n",
      "vol_range = set(vols)"
     ],
     "language": "python",
     "metadata": {},
     "outputs": [],
     "prompt_number": 4
    },
    {
     "cell_type": "code",
     "collapsed": false,
     "input": [
      "plt.figure(\"Sanity Check\")\n",
      "plt.subplot(211)\n",
      "plt.plot(times)\n",
      "plt.subplot(212)\n",
      "plt.plot(vols)\n",
      "plt.figure(2)\n",
      "plt.subplot(211)\n",
      "plt.plot(times,vols)\n",
      "plt.subplot(212)\n",
      "\n",
      "histo_getter = lambda n,l: len([m for m in l if m==n])\n",
      "lnhg = lambda n,l: (math.log(histo_getter(n,l)))\n",
      "vg = lambda n:lnhg(n,vols)\n",
      "vol_histogram = [vg(0),vg(1),vg(2),vg(3),vg(4),vg(5)]\n",
      "plt.title(\"Natural log of frequencies of different volumes.\")\n",
      "plt.plot([0,1,2,3,4,5],vol_histogram)"
     ],
     "language": "python",
     "metadata": {},
     "outputs": [
      {
       "metadata": {},
       "output_type": "pyout",
       "prompt_number": 5,
       "text": [
        "[<matplotlib.lines.Line2D at 0x7fb8c4062358>]"
       ]
      }
     ],
     "prompt_number": 5
    },
    {
     "cell_type": "code",
     "collapsed": false,
     "input": [],
     "language": "python",
     "metadata": {},
     "outputs": [],
     "prompt_number": 5
    },
    {
     "cell_type": "code",
     "collapsed": false,
     "input": [
      "#plt.show()"
     ],
     "language": "python",
     "metadata": {},
     "outputs": [],
     "prompt_number": 6
    },
    {
     "cell_type": "code",
     "collapsed": false,
     "input": [
      "#Now we can compare between participants.\n",
      "\n",
      "def by_participant(records):\n",
      "    participant_ids = sorted(set([k[2] for k in records]))\n",
      "    tot = []\n",
      "    for participant in participant_ids:\n",
      "        tot.append([record for record in records if record[2]==participant])\n",
      "    return tot\n",
      "bpr = by_participant(records)\n",
      "#This is a list, for each participant\n",
      "print(len(records))\n",
      "print(len(bpr))\n",
      "print(sum(map(len,bpr)))\n",
      "records = records[::50]"
     ],
     "language": "python",
     "metadata": {},
     "outputs": [
      {
       "output_type": "stream",
       "stream": "stdout",
       "text": [
        "23313\n",
        "14\n",
        "23313\n"
       ]
      }
     ],
     "prompt_number": 7
    },
    {
     "cell_type": "code",
     "collapsed": false,
     "input": [
      "# Now we compare between hangouts.\n",
      "def by_hangout(records):\n",
      "    hangout_ids = set([k[1] for k in records])\n",
      "    tot = []\n",
      "    for hangout in hangout_ids:\n",
      "        tot.append([record for record in records if record[1]==hangout])\n",
      "    return tot\n",
      "# Now we \n",
      "def get_records_in_range(rs,startTime,endTime):\n",
      "    return [r for r in rs if int(r[0])>startTime and int(r[0])<endTime]\n",
      "\n",
      "def longer(records,length=3000):\n",
      "    \"\"\"Records is just a list of events. Length is the desired length to cut by: the issue requests 3 seconds.\"\"\"\n",
      "    assert isinstance(length,int) or isinstance(length,float)\n",
      "    t0,tend = int(records[0][0]),int(records[-1][0])\n",
      "    i,tlast = t0+length,t0\n",
      "    transformed_records=[]\n",
      "    while i<tend:\n",
      "        current = get_records_in_range(records,tlast,i)\n",
      "        if len(current)>0:\n",
      "            pre_stage = by_participant(current)\n",
      "            mid_stage = map(lambda x:(x[0][0],x[0][1],x[0][2],sum(int(r[3]) for r in x)),pre_stage)\n",
      "            end_stage = sorted(mid_stage)[-1]\n",
      "            if end_stage[3] != 0:\n",
      "                transformed_records.append(end_stage)\n",
      "        tlast,i = i,i+length\n",
      "    return transformed_records\n",
      "compressedRecords=longer(records)\n"
     ],
     "language": "python",
     "metadata": {},
     "outputs": [],
     "prompt_number": 13
    },
    {
     "cell_type": "code",
     "collapsed": false,
     "input": [
      "# Here we have the scoring functions.\n",
      "def get_fractions(records):\n",
      "    x = filter(lambda x:(operator.gt(int(x[3]),0)),records)\n",
      "    counts = list(map(len,by_participant(x)))\n",
      "    return [float(count)/sum(counts) for count in counts]\n",
      "\n",
      "def h_index(records):\n",
      "    \"\"\"Returns the Herfindahl index of the fraction of time people spend talking at a minimum volume.\"\"\"\n",
      "    return sum(map(lambda x:(x**2),get_fractions(records)))\n",
      "\n",
      "def double_domination(records):\n",
      "    #The advantage of this over the Herfindahl index is that it's supported by the conversational literature.\n",
      "    fractions = get_fractions(records)\n",
      "    double_share = sum(sorted(fractions)[:2])\n",
      "    return double_share\n",
      "def crosstalk(records):\n",
      "    x = filter(lambda x:(operator.gt(int(x[3]),1)),records)\n",
      "    crosstalk_count = 0\n",
      "    for i,r in enumerate(records[1:]): #Starts with the 2nd element.\n",
      "        if not r[2]==records[i][2]: #Compares second to first initially.\n",
      "            crosstalk_count+=1 #The comparison is only ever speaker to speaker.\n",
      "    return crosstalk_count/float(len(records)-1)\n",
      "\n",
      "def pause_count(records,min_pause_length,max_pause_length):# The meaning of minVol is \n",
      "    # still the minimum volume to count, but now it determines exclusion, not inclusion.\n",
      "    silences = filter(lambda x:(operator.eq(0,int(x[3]))),records)\n",
      "    time_diffs = [int(records[i][0])-int(records[i-1][0]) for i in range(len(records))]\n",
      "    return len(filter(lambda x:(operator.and_(\n",
      "                                              operator.gt(x,min_pause_length),\n",
      "                                              operator.lt(x,max_pause_length))),\n",
      "                                time_diffs))/float(len(records)-1)"
     ],
     "language": "python",
     "metadata": {},
     "outputs": [],
     "prompt_number": 15
    },
    {
     "cell_type": "code",
     "collapsed": false,
     "input": [
      "#Trivial check of collaboration scores in different hangouts.\n",
      "map(lambda x:(h_index(x)),by_hangout(records))\n",
      "map(lambda x:(pause_count(x,1000,50000)),by_hangout(records))\n",
      "list(map(crosstalk,by_hangout(records)))"
     ],
     "language": "python",
     "metadata": {},
     "outputs": [
      {
       "metadata": {},
       "output_type": "pyout",
       "prompt_number": 47,
       "text": [
        "[0.90625, 0.9658444985789687, 0.8543689320388349, 0.0, 0.9246978617911373]"
       ]
      }
     ],
     "prompt_number": 47
    },
    {
     "cell_type": "code",
     "collapsed": false,
     "input": [
      "def track_changes(records,scoring_function):\n",
      "    return [scoring_function(records[:i]) for i,_ in enumerate(records) if i > 50]\n",
      "x=track_changes(records,h_index)"
     ],
     "language": "python",
     "metadata": {},
     "outputs": [],
     "prompt_number": 98
    },
    {
     "cell_type": "code",
     "collapsed": false,
     "input": [
      "df = pd.DataFrame(np.array(x))\n",
      "df[0]\n",
      "data2 = pgo.Data([\n",
      "    pgo.Scatter(\n",
      "            y=df[0],\n",
      "            mode='markers',\n",
      "            marker=pgo.Marker(sizemode='area',\n",
      "                              opacity=0.4,\n",
      "                              color='blue'),\n",
      "    )\n",
      "])\n",
      "#py.plot(data2)"
     ],
     "language": "python",
     "metadata": {},
     "outputs": [],
     "prompt_number": 116
    },
    {
     "cell_type": "code",
     "collapsed": false,
     "input": [
      "\"\"\"How to convert collaboration scores into predictions into comparisons of scoring mechanisms: A notepad.\n",
      "0. Have a uniformish prior over range of collaboration scores. Have prior for model effectiveness.\n",
      "1. Find a relationship between score and metric, with probit model(Were the aggregated scores in the top half?)\n",
      "2. Spit out likelihood ratios relative to old prior?\"\"\"\n",
      "\"\"\"Train a probit model taking in success and collaboration rating, see how it improves over P(success)=.5.\"\"\""
     ],
     "language": "python",
     "metadata": {},
     "outputs": [
      {
       "metadata": {},
       "output_type": "pyout",
       "prompt_number": 111,
       "text": [
        "'Train a probit model taking in success and collaboration rating, see how it improves over P(success)=.5.'"
       ]
      }
     ],
     "prompt_number": 111
    },
    {
     "cell_type": "code",
     "collapsed": false,
     "input": [],
     "language": "python",
     "metadata": {},
     "outputs": []
    },
    {
     "cell_type": "code",
     "collapsed": false,
     "input": [],
     "language": "python",
     "metadata": {},
     "outputs": []
    }
   ],
   "metadata": {}
  }
 ]
}