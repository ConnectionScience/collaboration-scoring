{
 "cells": [
  {
   "cell_type": "code",
   "execution_count": 3,
   "metadata": {
    "collapsed": false
   },
   "outputs": [
    {
     "name": "stdout",
     "output_type": "stream",
     "text": [
      "collaboration_scoring_scenario1_single.csv   collaboration_scoring_scenarios.csv\r\n",
      "collaboration_scoring_scenario3_overtalk.csv\r\n"
     ]
    }
   ],
   "source": [
    "import csv\n",
    "import numpy as np\n",
    "import scipy as sp\n",
    "import matplotlib as mpl\n",
    "import math\n",
    "import operator\n",
    "!ls collaboration_scoring*.csv"
   ]
  },
  {
   "cell_type": "code",
   "execution_count": 3,
   "metadata": {
    "collapsed": false
   },
   "outputs": [],
   "source": [
    "with open(\"collaboration_scoring_scenario3_overtalk.csv\") as baseFile:\n",
    "    csvr = csv.reader(baseFile)\n",
    "    records=[]\n",
    "    for line in csvr:\n",
    "        records.append(line)"
   ]
  },
  {
   "cell_type": "code",
   "execution_count": 59,
   "metadata": {
    "collapsed": false
   },
   "outputs": [
    {
     "name": "stdout",
     "output_type": "stream",
     "text": [
      "['time', 'hangout_id', 'broadcaster', 'volume']\n",
      "['1436304883834', '1', 'hangout63F36BBE_ephemeral.id.google.com^a8a848dd20', '0']\n",
      "['1436304883834', '1', 'hangoutB1237962_ephemeral.id.google.com^c49dc482c0', '0']\n"
     ]
    }
   ],
   "source": [
    "print(records[0])\n",
    "print(records[1])\n",
    "print(records[2])\n",
    "#filter(lambda x:(operator.gt(int(x[3]),0)),records[1:])"
   ]
  },
  {
   "cell_type": "code",
   "execution_count": 46,
   "metadata": {
    "collapsed": false
   },
   "outputs": [],
   "source": [
    "#Testing the data set as a whole. This gets some basic sanity checks done.\n",
    "get = lambda n: ([int(k[n]) for k in records[1:]])\n",
    "times = get(0)\n",
    "hangout_ids = set(get(1))\n",
    "participant_ids = set([k[2] for k in records[1:]])#Not an int.\n",
    "vols = get(3)\n",
    "vol_range = set(vols)"
   ]
  },
  {
   "cell_type": "code",
   "execution_count": 35,
   "metadata": {
    "collapsed": false
   },
   "outputs": [
    {
     "data": {
      "text/plain": [
       "[<matplotlib.lines.Line2D at 0x7f2687acd050>]"
      ]
     },
     "execution_count": 35,
     "metadata": {},
     "output_type": "execute_result"
    }
   ],
   "source": [
    "import matplotlib.pyplot as plt\n",
    "\n",
    "plt.figure(\"Sanity Check\")\n",
    "plt.subplot(211)\n",
    "plt.plot(times)\n",
    "plt.subplot(212)\n",
    "plt.plot(vols)\n",
    "plt.figure(2)\n",
    "plt.subplot(211)\n",
    "plt.plot(times,vols)\n",
    "plt.subplot(212)\n",
    "\n",
    "histo_getter = lambda n,l: len([m for m in l if m==n])\n",
    "lnhg = lambda n,l: (math.log(histo_getter(n,l)))\n",
    "vg = lambda n:lnhg(n,vols)\n",
    "vol_histogram = [vg(0),vg(1),vg(2),vg(3),vg(4),vg(5)]\n",
    "plt.title(\"Natural log of frequencies of different volumes.\")\n",
    "plt.plot([0,1,2,3,4,5],vol_histogram)"
   ]
  },
  {
   "cell_type": "code",
   "execution_count": 37,
   "metadata": {
    "collapsed": false
   },
   "outputs": [],
   "source": [
    "#plt.show()"
   ]
  },
  {
   "cell_type": "code",
   "execution_count": 71,
   "metadata": {
    "collapsed": false
   },
   "outputs": [
    {
     "name": "stdout",
     "output_type": "stream",
     "text": [
      "1266\n",
      "4\n",
      "1265\n"
     ]
    }
   ],
   "source": [
    "#Now we can compare between participants.\n",
    "\n",
    "def by_participant(records):\n",
    "    participant_ids = sorted(set([k[2] for k in records[1:]]))\n",
    "    tot = []\n",
    "    for participant in participant_ids:\n",
    "        tot.append([record for record in records if record[2]==participant])\n",
    "    return tot\n",
    "bpr = by_participant(records)\n",
    "#This is a list, for each participant\n",
    "print(len(records))\n",
    "print(len(bpr))\n",
    "print(len(bpr[0])+len(bpr[1])+len(bpr[2])+len(bpr[3]))"
   ]
  },
  {
   "cell_type": "code",
   "execution_count": 39,
   "metadata": {
    "collapsed": false
   },
   "outputs": [],
   "source": [
    "#Now we compare between hangouts.\n",
    "def by_participant(records):\n",
    "    hangout_ids = set([int(k[1]) for k in records[1:]])\n",
    "    tot = []\n",
    "    for hangout in hangout_ids:\n",
    "        tot.append([record for record in records if record[1]==hangout])\n",
    "    return tot"
   ]
  },
  {
   "cell_type": "code",
   "execution_count": 40,
   "metadata": {
    "collapsed": false
   },
   "outputs": [],
   "source": [
    "def scrub_nulls(min_volume,records):\n",
    "    return [record for record in records if record[3]>=min_volume]"
   ]
  },
  {
   "cell_type": "code",
   "execution_count": 81,
   "metadata": {
    "collapsed": false
   },
   "outputs": [
    {
     "data": {
      "text/plain": [
       "0"
      ]
     },
     "execution_count": 81,
     "metadata": {},
     "output_type": "execute_result"
    }
   ],
   "source": [
    "x = filter(lambda x:(operator.gt(int(x[3]),1)),records[1:])\n",
    "diffs = [[int(x[n][0])-int(x[n-1][0]), k[1],k[2],k[3]] for n,k in enumerate(x)][1:]\n",
    "len(by_participant(x)[0])\n",
    "len(by_participant(x)[1])\n",
    "counts = [len(k) for k in by_participant(x)]\n",
    "#TODO: Convert this into a REALLY BASIC collaboration score that doesn't penalize larger groups?\n",
    "fractions = [float(count)/sum(counts) for count in counts]\n",
    "HIndex = sum(map(lambda x:(x**2),fractions))\n",
    "HIndex"
   ]
  },
  {
   "cell_type": "code",
   "execution_count": null,
   "metadata": {
    "collapsed": false
   },
   "outputs": [],
   "source": []
  }
 ],
 "metadata": {
  "kernelspec": {
   "display_name": "Python 2",
   "language": "python",
   "name": "python2"
  },
  "language_info": {
   "codemirror_mode": {
    "name": "ipython",
    "version": 2
   },
   "file_extension": ".py",
   "mimetype": "text/x-python",
   "name": "python",
   "nbconvert_exporter": "python",
   "pygments_lexer": "ipython2",
   "version": "2.7.10"
  }
 },
 "nbformat": 4,
 "nbformat_minor": 0
}
