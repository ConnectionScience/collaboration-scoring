{
 "cells": [
  {
   "cell_type": "code",
   "execution_count": 12,
   "metadata": {
    "collapsed": false
   },
   "outputs": [
    {
     "name": "stdout",
     "output_type": "stream",
     "text": [
      "2015-07-14.csv\t\t  analytics.py\t collaboration_scoring_scenarios.csv\r\n",
      "analytics-notebook.ipynb  analytics.pyc  Screenshot\r\n"
     ]
    }
   ],
   "source": [
    "import csv\n",
    "import math\n",
    "import operator\n",
    "import functools\n",
    "\n",
    "import numpy as np\n",
    "import scipy as sp\n",
    "import scipy.stats as st\n",
    "import matplotlib as mpl\n",
    "import matplotlib.pyplot as plt\n",
    "import analytics\n",
    "import pandas as pd\n",
    "\n",
    "#import plotly.plotly as py\n",
    "#import plotly.graph_objs as pgo\n",
    "!ls"
   ]
  },
  {
   "cell_type": "code",
   "execution_count": 4,
   "metadata": {
    "collapsed": false
   },
   "outputs": [
    {
     "name": "stdout",
     "output_type": "stream",
     "text": [
      "['time', 'hangout_id', 'participant_id', 'volume', 'recorder_id']\n"
     ]
    }
   ],
   "source": [
    "with open(\"2015-07-14.csv\") as baseFile:\n",
    "    csvr = csv.reader(baseFile)\n",
    "    records=[]\n",
    "    for line in csvr:\n",
    "        records.append(line)\n",
    "print(records[0])\n",
    "records=records[1:]"
   ]
  },
  {
   "cell_type": "code",
   "execution_count": 9,
   "metadata": {
    "collapsed": false
   },
   "outputs": [
    {
     "name": "stdout",
     "output_type": "stream",
     "text": [
      "['1436906515049', 'hangout89FB9D61_ephemeral.id.google.com^902c79f4a20768', 'hangout89FB9D61_ephemeral.id.google.com^902c79f4a20768', '2', 'hangout89FB9D61_ephemeral.id.google.com^902c79f4a20768 ']\n",
      "23313\n"
     ]
    }
   ],
   "source": [
    "print(records[0])\n",
    "print(len(records))\n",
    "#filter(lambda x:(operator.gt(int(x[3]),0)),records[1:])"
   ]
  },
  {
   "cell_type": "code",
   "execution_count": 10,
   "metadata": {
    "collapsed": false
   },
   "outputs": [],
   "source": [
    "#Testing the data set as a whole. This gets some basic sanity checks done.\n",
    "get = lambda n: ([k[n] for k in records])\n",
    "#Verification that all times are ints, and displaying the offending lines otherwise.\n",
    "#for k in records:\n",
    "#    try:\n",
    "#        int(k[0])\n",
    "#    except Exception,e:\n",
    "#        print(k)\n",
    "times = list(map(int,get(0)))\n",
    "hangout_ids = set(get(1))\n",
    "participant_ids = set([k[2] for k in records])#Not an int.\n",
    "vols = list(map(int,get(3)))\n",
    "vol_range = set(vols)"
   ]
  },
  {
   "cell_type": "code",
   "execution_count": 11,
   "metadata": {
    "collapsed": false
   },
   "outputs": [
    {
     "data": {
      "text/plain": [
       "[<matplotlib.lines.Line2D at 0x7f485e9201d0>]"
      ]
     },
     "execution_count": 11,
     "metadata": {},
     "output_type": "execute_result"
    }
   ],
   "source": [
    "plt.figure(\"Sanity Check 1\")\n",
    "plt.subplot(211)\n",
    "plt.plot(times)\n",
    "plt.subplot(212)\n",
    "plt.plot(vols)\n",
    "plt.figure(\"Sanity Check 2\")\n",
    "plt.subplot(211)\n",
    "plt.plot(times,vols)\n",
    "plt.subplot(212)\n",
    "\n",
    "histo_getter = lambda n,l: len([m for m in l if m==n])\n",
    "lnhg = lambda n,l: (math.log(histo_getter(n,l)))\n",
    "vg = lambda n:lnhg(n,vols)\n",
    "vol_histogram = [vg(0),vg(1),vg(2),vg(3),vg(4),vg(5)]\n",
    "plt.title(\"Natural log of frequencies of different volumes.\")\n",
    "plt.plot([0,1,2,3,4,5],vol_histogram)"
   ]
  },
  {
   "cell_type": "code",
   "execution_count": 13,
   "metadata": {
    "collapsed": false
   },
   "outputs": [],
   "source": [
    "plt.show()"
   ]
  },
  {
   "cell_type": "code",
   "execution_count": 27,
   "metadata": {
    "collapsed": false
   },
   "outputs": [
    {
     "name": "stdout",
     "output_type": "stream",
     "text": [
      "23313\n",
      "14\n",
      "23313\n"
     ]
    }
   ],
   "source": [
    "#Now we can compare between participants.\n",
    "bpr = analytics.by_participant(records)\n",
    "#This is a list, for each participant\n",
    "print(len(records))\n",
    "print(len(bpr))\n",
    "print(sum(map(len,bpr)))"
   ]
  },
  {
   "cell_type": "code",
   "execution_count": 5,
   "metadata": {
    "collapsed": false
   },
   "outputs": [],
   "source": [
    "# Now we compare between hangouts.\n",
    "compressedRecords=analytics.longer(records)"
   ]
  },
  {
   "cell_type": "code",
   "execution_count": 10,
   "metadata": {
    "collapsed": false
   },
   "outputs": [
    {
     "data": {
      "text/plain": [
       "[0.8543689320388349, 0.9658444985789687, 0.9246978617911373, 0.90625, 0.0]"
      ]
     },
     "execution_count": 10,
     "metadata": {},
     "output_type": "execute_result"
    }
   ],
   "source": [
    "#Trivial check of collaboration scores in different hangouts.\n",
    "b = analytics.by_hangout(records)\n",
    "list(map(lambda x:(analytics.n_h_index(x)),b))\n",
    "list(map(lambda x:(analytics.pause_count(x,1000,50000)),b))\n",
    "list(map(analytics.crosstalk,b))"
   ]
  },
  {
   "cell_type": "code",
   "execution_count": 11,
   "metadata": {
    "collapsed": false
   },
   "outputs": [],
   "source": [
    "x=analytics.track_changes(compressedRecords,analytics.n_h_index)\n",
    "x\n",
    "plt.figure(\"Herfindahl Index over time.\")\n",
    "plt.plot(x)\n",
    "plt.show()"
   ]
  },
  {
   "cell_type": "code",
   "execution_count": null,
   "metadata": {
    "collapsed": true
   },
   "outputs": [],
   "source": []
  }
 ],
 "metadata": {
  "kernelspec": {
   "display_name": "Python 2",
   "language": "python",
   "name": "python2"
  },
  "language_info": {
   "codemirror_mode": {
    "name": "ipython",
    "version": 2
   },
   "file_extension": ".py",
   "mimetype": "text/x-python",
   "name": "python",
   "nbconvert_exporter": "python",
   "pygments_lexer": "ipython2",
   "version": "2.7.6"
  }
 },
 "nbformat": 4,
 "nbformat_minor": 0
}
