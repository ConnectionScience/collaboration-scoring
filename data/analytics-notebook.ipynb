{
 "metadata": {
  "name": ""
 },
 "nbformat": 3,
 "nbformat_minor": 0,
 "worksheets": [
  {
   "cells": [
    {
     "cell_type": "code",
     "collapsed": false,
     "input": [
      "import csv\n",
      "import numpy as np\n",
      "import scipy as sp\n",
      "import matplotlib as mpl\n",
      "import math\n",
      "!ls"
     ],
     "language": "python",
     "metadata": {},
     "outputs": [
      {
       "output_type": "stream",
       "stream": "stdout",
       "text": [
        "analytics-notebook.ipynb  collaboration_scoring_scenario1_single.csv  collaboration_scoring_scenario3_overtalk.csv  scenarios.csv\r\n"
       ]
      }
     ],
     "prompt_number": 2
    },
    {
     "cell_type": "code",
     "collapsed": false,
     "input": [
      "with open(\"collaboration_scoring_scenario3_overtalk.csv\") as baseFile:\n",
      "    csvr = csv.reader(baseFile)\n",
      "    records=[]\n",
      "    for line in csvr:\n",
      "        records.append(line)"
     ],
     "language": "python",
     "metadata": {},
     "outputs": [],
     "prompt_number": 3
    },
    {
     "cell_type": "code",
     "collapsed": false,
     "input": [
      "print(records[0])\n",
      "print(records[1])"
     ],
     "language": "python",
     "metadata": {},
     "outputs": [
      {
       "output_type": "stream",
       "stream": "stdout",
       "text": [
        "['time', 'hangout_id', 'broadcaster', 'volume']\n",
        "['1436304883834', '1', 'hangout63F36BBE_ephemeral.id.google.com^a8a848dd20', '0']\n"
       ]
      }
     ],
     "prompt_number": 7
    },
    {
     "cell_type": "code",
     "collapsed": false,
     "input": [
      "#Testing the data set as a whole. This gets some basic sanity checks done.\n",
      "get = lambda n: ([int(k[n]) for k in records[1:]])\n",
      "times = get(0)\n",
      "hangout_ids = get(1)\n",
      "person_ids = [k[2] for k in records[1:]]#Not an int.\n",
      "vols = get(3)"
     ],
     "language": "python",
     "metadata": {},
     "outputs": [],
     "prompt_number": 8
    },
    {
     "cell_type": "code",
     "collapsed": false,
     "input": [
      "import matplotlib.pyplot as plt\n",
      "\"\"\"\n",
      "plt.figure(1)\n",
      "plt.subplot(211)\n",
      "plt.plot(times)\n",
      "plt.subplot(212)\n",
      "plt.plot(vols)\n",
      "plt.figure(2)\n",
      "plt.subplot(211)\n",
      "plt.plot(times,vols)\n",
      "plt.subplot(212)\n",
      "\"\"\"\n",
      "histo_getter = lambda n,l: len([m for m in l if m==n])\n",
      "lnhg = lambda n,l: (math.log(histo_getter(n,l)))\n",
      "vg = lambda n:lnhg(n,vols)\n",
      "vol_histogram = [vg(0),vg(1),vg(2),vg(3),vg(4),vg(5)]\n",
      "plt.title(\"Natural log of frequencies of different volumes.\")\n",
      "plt.plot([0,1,2,3,4,5],vol_histogram)"
     ],
     "language": "python",
     "metadata": {},
     "outputs": [
      {
       "metadata": {},
       "output_type": "pyout",
       "prompt_number": 9,
       "text": [
        "[<matplotlib.lines.Line2D at 0x7fabec031210>]"
       ]
      }
     ],
     "prompt_number": 9
    },
    {
     "cell_type": "code",
     "collapsed": false,
     "input": [
      "#plt.show()"
     ],
     "language": "python",
     "metadata": {},
     "outputs": [],
     "prompt_number": 10
    },
    {
     "cell_type": "code",
     "collapsed": false,
     "input": [
      "#Now we can compare between participants.\n",
      "\n",
      "def by_participant(records):\n",
      "    person_ids = set([k[2] for k in records[1:]])\n",
      "    tot = []\n",
      "    for person in person_ids:\n",
      "        tot.append([record for record in records if record[2]==person])\n",
      "    return tot\n",
      "x = by_participant(records)\n",
      "#This is a list, for each participant\n",
      "print(len(records))\n",
      "print(len(x))\n",
      "print(len(x[0])+len(x[1])+len(x[2])+len(x[3]))\n",
      "\n",
      "\n"
     ],
     "language": "python",
     "metadata": {},
     "outputs": [
      {
       "output_type": "stream",
       "stream": "stdout",
       "text": [
        "1266\n",
        "4\n",
        "1265\n"
       ]
      }
     ],
     "prompt_number": 28
    },
    {
     "cell_type": "code",
     "collapsed": false,
     "input": [
      "#Now we compare between hangouts.\n",
      "def by_participant(records):\n",
      "    hangout_ids = set([int(k[1]) for k in records[1:]])\n",
      "    tot = []\n",
      "    for hangout in hangout_ids:\n",
      "        tot.append([[hangout],[record for record in records if record[1]==hangout]])\n",
      "    return tot "
     ],
     "language": "python",
     "metadata": {},
     "outputs": [],
     "prompt_number": 24
    },
    {
     "cell_type": "code",
     "collapsed": false,
     "input": [],
     "language": "python",
     "metadata": {},
     "outputs": []
    }
   ],
   "metadata": {}
  }
 ]
}