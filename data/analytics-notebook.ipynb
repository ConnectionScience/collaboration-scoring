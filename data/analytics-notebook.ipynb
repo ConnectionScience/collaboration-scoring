{
 "metadata": {
  "name": ""
 },
 "nbformat": 3,
 "nbformat_minor": 0,
 "worksheets": [
  {
   "cells": [
    {
     "cell_type": "code",
     "collapsed": false,
     "input": [
      "import csv\n",
      "import numpy as np\n",
      "import scipy as sp\n",
      "import matplotlib as mpl\n",
      "!ls"
     ],
     "language": "python",
     "metadata": {},
     "outputs": [
      {
       "output_type": "stream",
       "stream": "stdout",
       "text": [
        "analytics-notebook.ipynb  collaboration_scoring_scenario3_overtalk.csv data  scenarios.csv\r\n"
       ]
      }
     ],
     "prompt_number": 7
    },
    {
     "cell_type": "code",
     "collapsed": false,
     "input": [
      "with open(\"collaboration_scoring_scenario3_overtalk.csv data\") as baseFile:\n",
      "    csvr = csv.reader(baseFile)\n",
      "    records=[]\n",
      "    for line in csvr:\n",
      "        records.append(line)"
     ],
     "language": "python",
     "metadata": {},
     "outputs": [],
     "prompt_number": 27
    },
    {
     "cell_type": "code",
     "collapsed": false,
     "input": [
      "print(records[0])\n",
      "print(records[1])"
     ],
     "language": "python",
     "metadata": {},
     "outputs": [
      {
       "output_type": "stream",
       "stream": "stdout",
       "text": [
        "['time', 'hangout_id', 'broadcaster', 'volume']\n",
        "['1436304883834', '1', 'hangout63F36BBE_ephemeral.id.google.com^a8a848dd20', '0']\n"
       ]
      }
     ],
     "prompt_number": 34
    },
    {
     "cell_type": "code",
     "collapsed": false,
     "input": [
      "get = lambda n: ([int(k[n]) for k in records[1:]])\n",
      "times = get(0)\n",
      "hangout_ids = get(1)\n",
      "person_ids = [k[2] for k in records[1:]]#Not an int.\n",
      "vols = get(3)"
     ],
     "language": "python",
     "metadata": {},
     "outputs": [],
     "prompt_number": 38
    },
    {
     "cell_type": "code",
     "collapsed": false,
     "input": [
      "import matplotlib.pyplot as plt\n",
      "plt.figure(1)\n",
      "plt.subplot(211)\n",
      "plt.plot(times)\n",
      "plt.subplot(212)\n",
      "plt.plot(vols)\n",
      "#plt.plot([1,4],[1,2])\n",
      "plt.show()"
     ],
     "language": "python",
     "metadata": {},
     "outputs": [],
     "prompt_number": "*"
    },
    {
     "cell_type": "code",
     "collapsed": false,
     "input": [],
     "language": "python",
     "metadata": {},
     "outputs": [],
     "prompt_number": 43
    },
    {
     "cell_type": "code",
     "collapsed": false,
     "input": [],
     "language": "python",
     "metadata": {},
     "outputs": []
    }
   ],
   "metadata": {}
  }
 ]
}