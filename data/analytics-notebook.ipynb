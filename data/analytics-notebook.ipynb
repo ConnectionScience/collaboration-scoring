{
 "metadata": {
  "name": ""
 },
 "nbformat": 3,
 "nbformat_minor": 0,
 "worksheets": [
  {
   "cells": [
    {
     "cell_type": "code",
     "collapsed": false,
     "input": [
      "import csv\n",
      "import numpy as np\n",
      "import scipy as sp\n",
      "import matplotlib as mpl\n",
      "import pandas as pd\n",
      "import math\n",
      "import operator\n",
      "import plotly.plotly as py\n",
      "import plotly.graph_objs as pgo\n",
      "!ls"
     ],
     "language": "python",
     "metadata": {},
     "outputs": [
      {
       "output_type": "stream",
       "stream": "stdout",
       "text": [
        "2015-07-14.csv\tanalytics-notebook.ipynb  collaboration_scoring_scenarios.csv\r\n"
       ]
      }
     ],
     "prompt_number": 112
    },
    {
     "cell_type": "code",
     "collapsed": false,
     "input": [
      "with open(\"hangoutF03932EC_ephemeral.id.google.com^c752361cd0.csv\") as baseFile:\n",
      "    csvr = csv.reader(baseFile)\n",
      "    records=[]\n",
      "    for line in csvr:\n",
      "        records.append(line)\n",
      "print(records[0])\n",
      "records=records[1:]"
     ],
     "language": "python",
     "metadata": {},
     "outputs": [
      {
       "output_type": "stream",
       "stream": "stdout",
       "text": [
        "['time', 'hangout_id', 'participant_id', 'volume', 'hangout_id', 'recorder_id']\n"
       ]
      }
     ],
     "prompt_number": 59
    },
    {
     "cell_type": "code",
     "collapsed": false,
     "input": [
      "print(records[0])\n",
      "print(records[50])\n",
      "#filter(lambda x:(operator.gt(int(x[3]),0)),records[1:])"
     ],
     "language": "python",
     "metadata": {},
     "outputs": [
      {
       "output_type": "stream",
       "stream": "stdout",
       "text": [
        "['1436900890856', '1', 'hangoutA82F0A9A_ephemeral.id.google.com^1046457df7b400', '2', 'hangoutA82F0A9A_ephemeral.id.google.com^1046457df7b400', '[object%20Object] ']\n",
        "['1436900918196', '1', 'hangoutA82F0A9A_ephemeral.id.google.com^1046457df7b400', '3', 'hangoutA82F0A9A_ephemeral.id.google.com^1046457df7b400', '[object%20Object] ']\n"
       ]
      }
     ],
     "prompt_number": 60
    },
    {
     "cell_type": "code",
     "collapsed": false,
     "input": [
      "#Testing the data set as a whole. This gets some basic sanity checks done.\n",
      "get = lambda n: ([k[n] for k in records])\n",
      "#Verification that all times are ints, and displaying the offending lines otherwise.\n",
      "for k in records:\n",
      "    try:\n",
      "        int(k[0])\n",
      "    except Exception,e:\n",
      "        print(k)\n",
      "times = map(int,get(0))\n",
      "hangout_ids = set(get(1))\n",
      "participant_ids = set([k[2] for k in records])#Not an int.\n",
      "vols = map(int,get(3))\n",
      "vol_range = set(vols)"
     ],
     "language": "python",
     "metadata": {},
     "outputs": [],
     "prompt_number": 76
    },
    {
     "cell_type": "code",
     "collapsed": false,
     "input": [
      "import matplotlib.pyplot as plt\n",
      "\n",
      "plt.figure(\"Sanity Check\")\n",
      "plt.subplot(211)\n",
      "plt.plot(times)\n",
      "plt.subplot(212)\n",
      "plt.plot(vols)\n",
      "plt.figure(2)\n",
      "plt.subplot(211)\n",
      "plt.plot(times,vols)\n",
      "plt.subplot(212)\n",
      "\n",
      "histo_getter = lambda n,l: len([m for m in l if m==n])\n",
      "lnhg = lambda n,l: (math.log(histo_getter(n,l)))\n",
      "vg = lambda n:lnhg(n,vols)\n",
      "vol_histogram = [vg(0),vg(1),vg(2),vg(3),vg(4),vg(5)]\n",
      "plt.title(\"Natural log of frequencies of different volumes.\")\n",
      "plt.plot([0,1,2,3,4,5],vol_histogram)"
     ],
     "language": "python",
     "metadata": {},
     "outputs": [
      {
       "metadata": {},
       "output_type": "pyout",
       "prompt_number": 77,
       "text": [
        "[<matplotlib.lines.Line2D at 0x7f1205e27e10>]"
       ]
      }
     ],
     "prompt_number": 77
    },
    {
     "cell_type": "code",
     "collapsed": false,
     "input": [
      "#plt.show()"
     ],
     "language": "python",
     "metadata": {},
     "outputs": [],
     "prompt_number": 78
    },
    {
     "cell_type": "code",
     "collapsed": false,
     "input": [
      "#Now we can compare between participants.\n",
      "\n",
      "def by_participant(records):\n",
      "    participant_ids = sorted(set([k[2] for k in records]))\n",
      "    tot = []\n",
      "    for participant in participant_ids:\n",
      "        tot.append([record for record in records if record[2]==participant])\n",
      "    return tot\n",
      "bpr = by_participant(records)\n",
      "#This is a list, for each participant\n",
      "print(len(records))\n",
      "print(len(bpr))\n",
      "print(sum(map(len,bpr)))"
     ],
     "language": "python",
     "metadata": {},
     "outputs": [
      {
       "output_type": "stream",
       "stream": "stdout",
       "text": [
        "6723\n",
        "3\n",
        "6723\n"
       ]
      }
     ],
     "prompt_number": 79
    },
    {
     "cell_type": "code",
     "collapsed": false,
     "input": [
      "#Now we compare between hangouts.\n",
      "def by_hangout(records):\n",
      "    hangout_ids = set([k[1] for k in records])\n",
      "    tot = []\n",
      "    for hangout in hangout_ids:\n",
      "        tot.append([record for record in records if record[1]==hangout])\n",
      "    return tot"
     ],
     "language": "python",
     "metadata": {},
     "outputs": [],
     "prompt_number": 80
    },
    {
     "cell_type": "code",
     "collapsed": false,
     "input": [
      "def hIndex(records, minVol):\n",
      "    \"\"\"Returns the Herfindahl index of the fraction of time people spend talking at a minimum volume.\"\"\"\n",
      "    x = filter(lambda x:(operator.gt(int(x[3]),minVol)),records)\n",
      "    counts = [len(k) for k in by_participant(x)]\n",
      "    fractions = [float(count)/sum(counts) for count in counts]\n",
      "    return sum(map(lambda x:(x**2),fractions))\n",
      "h_index = lambda x:(hIndex(x,1))\n",
      "                    \n",
      "def crosstalk(records):\n",
      "    x = filter(lambda x:(operator.gt(int(x[3]),1)),records)\n",
      "    crosstalk_count = 0\n",
      "    for i,r in enumerate(records[1:]): #Starts with the 2nd element.\n",
      "        if not r[2]==records[i][2]: #Compares second to first initially.\n",
      "            crosstalk_count+=1 #The comparison is only ever speaker to speaker.\n",
      "    return crosstalk_count/float(len(records)-1)\n",
      "\n",
      "def pause_count(records,min_pause_length,max_pause_length):# The meaning of minVol is \n",
      "    # still the minimum volume to count, but now it determines exclusion, not inclusion.\n",
      "    silences = filter(lambda x:(operator.eq(0,int(x[3]))),records)\n",
      "    time_diffs = [int(records[i][0])-int(records[i-1][0]) for i in range(len(records))]\n",
      "    return len(filter(lambda x:(operator.and_(\n",
      "                                              operator.gt(x,min_pause_length),\n",
      "                                              operator.lt(x,max_pause_length))),\n",
      "                                time_diffs))/float(len(records)-1)"
     ],
     "language": "python",
     "metadata": {},
     "outputs": [],
     "prompt_number": 88
    },
    {
     "cell_type": "code",
     "collapsed": false,
     "input": [
      "#Trivial check of collaboration scores in different hangouts.\n",
      "map(lambda x:(h_index(x)),by_hangout(records))\n",
      "map(lambda x:(pause_count(x,1000,50000)),by_hangout(records))\n",
      "map(crosstalk,by_hangout(records))"
     ],
     "language": "python",
     "metadata": {},
     "outputs": [
      {
       "metadata": {},
       "output_type": "pyout",
       "prompt_number": 91,
       "text": [
        "[0.7307349003272835]"
       ]
      }
     ],
     "prompt_number": 91
    },
    {
     "cell_type": "code",
     "collapsed": false,
     "input": [
      "def track_changes(records,scoring_function):\n",
      "    return [scoring_function(records[:i]) for i,_ in enumerate(records) if i > 50]\n",
      "x=track_changes(records,h_index)"
     ],
     "language": "python",
     "metadata": {},
     "outputs": [],
     "prompt_number": 98
    },
    {
     "cell_type": "code",
     "collapsed": false,
     "input": [
      "df = pd.DataFrame(np.array(x))\n",
      "df[0]\n",
      "data2 = pgo.Data([\n",
      "    pgo.Scatter(\n",
      "            x=df[0],\n",
      "            mode='markers',\n",
      "            marker=pgo.Marker(sizemode='area',\n",
      "                              opacity=0.4,\n",
      "                              color='blue'),\n",
      "    )\n",
      "])\n",
      "data2"
     ],
     "language": "python",
     "metadata": {},
     "outputs": [
      {
       "metadata": {},
       "output_type": "pyout",
       "prompt_number": 110,
       "text": [
        "[{'marker': {'color': 'blue', 'opacity': 0.4, 'sizemode': 'area'},\n",
        "  'mode': 'markers',\n",
        "  'type': u'scatter',\n",
        "  'x': 0     1\n",
        "1     1\n",
        "2     1\n",
        "3     1\n",
        "4     1\n",
        "5     1\n",
        "6     1\n",
        "7     1\n",
        "8     1\n",
        "9     1\n",
        "10    1\n",
        "11    1\n",
        "12    1\n",
        "13    1\n",
        "14    1\n",
        "...\n",
        "6657    0.466968\n",
        "6658    0.466977\n",
        "6659    0.466977\n",
        "6660    0.466977\n",
        "6661    0.466977\n",
        "6662    0.466977\n",
        "6663    0.466977\n",
        "6664    0.466977\n",
        "6665    0.466977\n",
        "6666    0.466977\n",
        "6667    0.466977\n",
        "6668    0.466985\n",
        "6669    0.466985\n",
        "6670    0.466985\n",
        "6671    0.466993\n",
        "Name: 0, Length: 6672, dtype: float64}]"
       ]
      }
     ],
     "prompt_number": 110
    },
    {
     "cell_type": "code",
     "collapsed": false,
     "input": [
      "\"\"\"How to convert collaboration scores into predictions into comparisons of scoring mechanisms: A notepad.\n",
      "0. Have a uniformish prior over range of collaboration scores. Have prior for model effectiveness.\n",
      "1. Find a relationship between score and metric, with probit model(Were the aggregated scores in the top half?)\n",
      "2. Spit out likelihood ratios relative to old prior?\"\"\"\n",
      "\"\"\"Train a probit model taking in success and collaboration rating, see how it improves over P(success)=.5.\"\"\""
     ],
     "language": "python",
     "metadata": {},
     "outputs": [
      {
       "metadata": {},
       "output_type": "pyout",
       "prompt_number": 111,
       "text": [
        "'Train a probit model taking in success and collaboration rating, see how it improves over P(success)=.5.'"
       ]
      }
     ],
     "prompt_number": 111
    },
    {
     "cell_type": "code",
     "collapsed": false,
     "input": [],
     "language": "python",
     "metadata": {},
     "outputs": []
    },
    {
     "cell_type": "code",
     "collapsed": false,
     "input": [],
     "language": "python",
     "metadata": {},
     "outputs": []
    }
   ],
   "metadata": {}
  }
 ]
}